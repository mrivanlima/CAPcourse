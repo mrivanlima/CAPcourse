{
 "cells": [
  {
   "cell_type": "markdown",
   "metadata": {},
   "source": [
    "# Assignment\n",
    "* Implement a Python script to calculate self-attention for a given input sequence. \n",
    "* The script should compute the self-attention mechanism without using any specialized libraries for neural networks and should be optimized to run efficiently on the CPU.\n",
    "\n",
    "# Rubric\n",
    "* (Done) Define a Python function that computes self-attention for a given input sequence. (5 Points)\n",
    "* (Done) Implement the self-attention mechanism as described in the lecture, consisting of key, query, and value transformations. (5 Points)\n",
    "* Ensure that the script is efficient and scaled-down, suitable for running on a CPU. Test the script with various input sequences of different lengths to ensure correctness and efficiency. (5 Points)\n",
    "* Document your code with comments explaining each major step of the self-attention process. (5 Points)\n",
    "\n",
    "Load Libraries"
   ]
  },
  {
   "cell_type": "code",
   "execution_count": 166,
   "metadata": {},
   "outputs": [],
   "source": [
    "import numpy as np\n",
    "import pandas as pd\n",
    "import re\n",
    "from sklearn.decomposition import PCA\n",
    "import matplotlib.pyplot as plt"
   ]
  },
  {
   "cell_type": "markdown",
   "metadata": {},
   "source": [
    "Below, an array of sample sentences is created."
   ]
  },
  {
   "cell_type": "code",
   "execution_count": 167,
   "metadata": {},
   "outputs": [],
   "source": [
    "# pre-selected sample input array\n",
    "sample_input_array = [\n",
    "    {\"1\": \"This is a test input.\"},\n",
    "    {\"2\": \"Chess, not checkers.\"},\n",
    "    {\"3\": \"Algorithms make the world go round.\"},\n",
    "    {\"4\": \"Financial Technology is my graduate program.\"},\n",
    "    {\"5\": \"UCF is in Florida.\"},\n",
    "    {\"6\": \"I am from Florida. The year is 2024 and I am a graduate student. This team is Team Number 1.\"},\n",
    "    {\"7\": \"The only thing we have to fear is fear itself.\"},\n",
    "    {\"8\": \"I think, therefore I am.\"},\n",
    "    {\"9\": \"To be, or not to be, that is the question.\"},\n",
    "    {\"10\": \"A journey of a thousand miles begins with a single step.\"},\n",
    "    {\"11\": \"I have a dream.\"},\n",
    "    {\"12\": \"Knowledge is power.\"},\n",
    "    {\"13\": \"Time is money.\"},\n",
    "    {\"14\": \"The pen is mightier than the sword.\"},\n",
    "    {\"15\": \"An eye for an eye only ends up making the whole world blind.\"},\n",
    "    {\"16\": \"In the end, we will remember not the words of our enemies, but the silence of our friends.\"}\n",
    "]"
   ]
  },
  {
   "cell_type": "markdown",
   "metadata": {},
   "source": [
    "Below, the logic of which sample input is used in the run is decided. It can be randomly selected with the np.random library. Otherwise, It can be set to a specific number to keep testing the same input."
   ]
  },
  {
   "cell_type": "code",
   "execution_count": 168,
   "metadata": {},
   "outputs": [],
   "source": [
    "array_input_number = np.random.randint(1, 17)\n",
    "text_to_tokenize = sample_input_array[array_input_number - 1][str(array_input_number)]"
   ]
  },
  {
   "cell_type": "markdown",
   "metadata": {},
   "source": [
    "Next, the text is tokenized by calling the tokenize function below and stored in the variable 'tokens'."
   ]
  },
  {
   "cell_type": "code",
   "execution_count": 169,
   "metadata": {},
   "outputs": [],
   "source": [
    "def tokenize(text_to_tokenize):\n",
    "    # Tokenizes text into words, separating out punctuation since this is a common NLP task\n",
    "    tokens = re.findall(r'\\b\\w+\\b|\\S', text_to_tokenize.lower())\n",
    "    return tokens\n",
    "\n",
    "tokens = tokenize(text_to_tokenize)"
   ]
  },
  {
   "cell_type": "markdown",
   "metadata": {},
   "source": [
    "Below, we proceed to vectorize the tokens and store them in a variable. Vectorizing involves creating a one-dimensional array of float integers, which makes the Python code more readable for the computer. In this case, we use the Count of Words vectorizer, which provides a weighted interpretation for the model."
   ]
  },
  {
   "cell_type": "code",
   "execution_count": 170,
   "metadata": {},
   "outputs": [],
   "source": [
    "def count_vectorize(tokens):\n",
    "    word_counts = {}\n",
    "    for word in tokens:\n",
    "        if word not in word_counts:\n",
    "            word_counts[word] = 1\n",
    "        else:\n",
    "            word_counts[word] += 1\n",
    "    return word_counts\n",
    "\n",
    "vector = count_vectorize(tokens)"
   ]
  },
  {
   "cell_type": "markdown",
   "metadata": {},
   "source": [
    "The print statements below will tell us the tokenized text and the vectorized tokens."
   ]
  },
  {
   "cell_type": "code",
   "execution_count": 171,
   "metadata": {},
   "outputs": [
    {
     "name": "stdout",
     "output_type": "stream",
     "text": [
      "Tokenization:        0\n",
      "0   time\n",
      "1     is\n",
      "2  money\n",
      "3      .\n",
      "\n",
      "Count Vectorization: {'time': 1, 'is': 1, 'money': 1, '.': 1}\n"
     ]
    }
   ],
   "source": [
    "tokens_df = pd.DataFrame(tokens)\n",
    "print('Tokenization:', tokens_df)\n",
    "\n",
    "\n",
    "print('\\nCount Vectorization:', vector)"
   ]
  },
  {
   "cell_type": "markdown",
   "metadata": {},
   "source": [
    "Below, the one_hot_encode function converts tokens into one-hot vector embeddings, which are then used by the self_attention function to compute the self-attention mechanism. This process is essential for capturing the relationships and dependencies within the input sequence.\n"
   ]
  },
  {
   "cell_type": "code",
   "execution_count": 172,
   "metadata": {},
   "outputs": [],
   "source": [
    "def one_hot_encode(tokens):\n",
    "    # Create a list of unique words\n",
    "    unique_words = list(set(tokens))\n",
    "\n",
    "    # Create a dictionary that maps each word to a unique index\n",
    "    word_to_index = {word: index for index, word in enumerate(unique_words)}\n",
    "\n",
    "    # Create a one-hot encoding for each word\n",
    "    one_hot_vectors = np.eye(len(unique_words))\n",
    "\n",
    "    # Map each word in the input sequence to its one-hot encoding\n",
    "    embeddings = [one_hot_vectors[word_to_index[word]] for word in tokens]\n",
    "\n",
    "    return embeddings"
   ]
  },
  {
   "cell_type": "markdown",
   "metadata": {},
   "source": [
    "Below, the self_attention function calculates the attention scores.\n",
    "\n",
    "Because np.random is used throughout this notebook, it is important to have different seeds so that the generated numbers are different. \n",
    "The get_state() function captures the current np.random state, which is then changed in the next line to be a seed of 659148. The seed state is restored after the weighted values are calculated.\n",
    "Non-weighted Query, Key and Value values are calculated.\n",
    "\n",
    "Next, the raw attention scores are calculated with dot matrix multiplication. The raw attention scores are scaled by the inverse square root of the dimensionality of the key vectors. This scales down the scores which helps stabilize gradients and improve efficiency during training.\n",
    "\n",
    "Next, the SoftMax method is implemented to normalize the the scaled attention scores to a value between 0 and 1, where the entire matrices row sum will total 1. This converts the attention scores into interpretable probabilities."
   ]
  },
  {
   "cell_type": "code",
   "execution_count": 173,
   "metadata": {},
   "outputs": [],
   "source": [
    "def self_attention(input_sequence, embed_dimension):\n",
    "    # Save the current state of the numpy random number generator\n",
    "    initial_state = np.random.get_state()\n",
    "\n",
    "    # Set the seed and initialize weight matrices\n",
    "    np.random.seed(659148)\n",
    "    WQ = np.random.rand(embed_dimension, embed_dimension)\n",
    "    WK = np.random.rand(embed_dimension, embed_dimension)\n",
    "    WV = np.random.rand(embed_dimension, embed_dimension)\n",
    "\n",
    "    # Restore the previous state of the numpy random number generator\n",
    "    np.random.set_state(initial_state)\n",
    "\n",
    "    # Calculate non-weighted Q, K, V\n",
    "    Q = np.dot(input_sequence, WQ)\n",
    "    K = np.dot(input_sequence, WK)\n",
    "    V = np.dot(input_sequence, WV)\n",
    "\n",
    "    # caculate raw attention scores, then scale them down in prep for noramalization\n",
    "    attention_scores = np.dot(Q, K.T) / np.sqrt(embed_dimension)\n",
    "\n",
    "    # Normalize the attention scores via SoftMax methodology\n",
    "    attention_scores = np.exp(attention_scores) / np.sum(np.exp(attention_scores), axis=-1, keepdims=True)\n",
    "\n",
    "    # Here, np.dot(attention_scores, V) multiplies the attention scores matrix and the value vectors matrix\n",
    "    output = np.dot(attention_scores, V)\n",
    "\n",
    "    return output,attention_scores"
   ]
  },
  {
   "cell_type": "markdown",
   "metadata": {},
   "source": [
    "Below, the embeddings are saved to a variable and the embedded dimensions variable is declared and intialized.\n",
    "Next, the self-attention function is called and returns the output and attention_scores values which are stored in the respective variables.\n",
    "\n",
    "The print statement reflects the self-attention scors for the entire input text."
   ]
  },
  {
   "cell_type": "code",
   "execution_count": 174,
   "metadata": {},
   "outputs": [
    {
     "name": "stdout",
     "output_type": "stream",
     "text": [
      "Self-Attention Output:\n",
      "           0         1         2         3\n",
      "0  0.357096  0.645135  0.846032  0.251824\n",
      "1  0.333293  0.656604  0.831611  0.273649\n",
      "2  0.356653  0.639838  0.846890  0.250137\n",
      "3  0.347911  0.642223  0.839994  0.262835\n"
     ]
    }
   ],
   "source": [
    "embeddings = one_hot_encode(tokens)\n",
    "\n",
    "# Set embed_dimension to the length of the unique words list\n",
    "embed_dimension = len(set(tokens))\n",
    "\n",
    "# Call the self_attention function\n",
    "output, attention_scores = self_attention(embeddings, embed_dimension)\n",
    "output_df = pd.DataFrame(output)\n",
    "print('Self-Attention Output:\\n', output_df)\n"
   ]
  },
  {
   "cell_type": "markdown",
   "metadata": {},
   "source": [
    "Below, the visualizations for the self attention score matrix heatmap is defined and called. "
   ]
  },
  {
   "cell_type": "code",
   "execution_count": 175,
   "metadata": {},
   "outputs": [
    {
     "data": {
      "image/png": "[encoded data removed]",
      "text/plain": [
       "<Figure size 1000x1000 with 2 Axes>"
      ]
     },
     "metadata": {},
     "output_type": "display_data"
    }
   ],
   "source": [
    "unique_words = list(set(tokens))\n",
    "# Visualize the attention scores\n",
    "plt.figure(figsize=(10, 10))\n",
    "plt.imshow(attention_scores, cmap='hot', interpolation='nearest')\n",
    "\n",
    "# Add a colorbar\n",
    "cbar = plt.colorbar()\n",
    "cbar.set_label('Attention Scores')\n",
    "\n",
    "# Set the tick labels to be the words\n",
    "plt.xticks(np.arange(len(unique_words)), unique_words)\n",
    "plt.yticks(np.arange(len(unique_words)), unique_words)\n",
    "\n",
    "# Add title and axis labels\n",
    "plt.title('Self-Attention Heatmap')\n",
    "plt.xlabel('Keys')\n",
    "plt.ylabel('Queries')\n",
    "\n",
    "plt.show()"
   ]
  },
  {
   "cell_type": "markdown",
   "metadata": {},
   "source": [
    "Next, large inputs are accounted for and PCA is applied which will reduce the dimensionality of the attention-scores."
   ]
  },
  {
   "cell_type": "code",
   "execution_count": 176,
   "metadata": {},
   "outputs": [
    {
     "name": "stdout",
     "output_type": "stream",
     "text": [
      "PCA Output:\n",
      "         PC1       PC2\n",
      "0 -0.011871 -0.003636\n",
      "1  0.025233 -0.001704\n",
      "2 -0.014857  0.000499\n",
      "3  0.001494  0.004841\n"
     ]
    }
   ],
   "source": [
    "# Apply PCA\n",
    "pca = PCA(n_components=2)  # reduce to 2 dimensions\n",
    "pca_output = pca.fit_transform(output)\n",
    "pcadf = pd.DataFrame(data=pca_output, columns=['PC1', 'PC2'])\n",
    "# Print the PCA output\n",
    "print('PCA Output:\\n', pcadf) "
   ]
  },
  {
   "cell_type": "markdown",
   "metadata": {},
   "source": [
    "Below, the PCA converted attention-scores are visualized."
   ]
  },
  {
   "cell_type": "code",
   "execution_count": 177,
   "metadata": {},
   "outputs": [
    {
     "data": {
      "image/png": "[encoded data removed]",
      "text/plain": [
       "<Figure size 1000x1000 with 1 Axes>"
      ]
     },
     "metadata": {},
     "output_type": "display_data"
    }
   ],
   "source": [
    "# Plot the PCA output\n",
    "plt.figure(figsize=(10, 10))\n",
    "plt.scatter(pca_output[:, 0], pca_output[:, 1])\n",
    "\n",
    "for i, word in enumerate(unique_words):\n",
    "    plt.annotate(word, (pca_output[i, 0], pca_output[i, 1]))\n",
    "\n",
    "plt.xlabel('Principal Component 1')\n",
    "plt.ylabel('Principal Component 2')\n",
    "plt.title('PCA on Self-Attention Output')\n",
    "plt.show()"
   ]
  }
 ],
 "metadata": {
  "kernelspec": {
   "display_name": "Python 3",
   "language": "python",
   "name": "python3"
  },
  "language_info": {
   "codemirror_mode": {
    "name": "ipython",
    "version": 3
   },
   "file_extension": ".py",
   "mimetype": "text/x-python",
   "name": "python",
   "nbconvert_exporter": "python",
   "pygments_lexer": "ipython3",
   "version": "3.12.0"
  }
 },
 "nbformat": 4,
 "nbformat_minor": 2
}
