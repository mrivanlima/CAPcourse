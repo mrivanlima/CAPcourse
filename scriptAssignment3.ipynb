{
 "cells": [
  {
   "cell_type": "markdown",
   "metadata": {},
   "source": [
    "# Assignment\n",
    "* Implement a Python script to calculate self-attention for a given input sequence. \n",
    "* The script should compute the self-attention mechanism without using any specialized libraries for neural networks and should be optimized to run efficiently on the CPU.\n",
    "\n",
    "# Rubric\n",
    "* (Done) Define a Python function that computes self-attention for a given input sequence. (5 Points)\n",
    "* (Done) Implement the self-attention mechanism as described in the lecture, consisting of key, query, and value transformations. (5 Points)\n",
    "* Ensure that the script is efficient and scaled-down, suitable for running on a CPU. Test the script with various input sequences of different lengths to ensure correctness and efficiency. (5 Points)\n",
    "* Document your code with comments explaining each major step of the self-attention process. (5 Points)\n",
    "\n",
    "Load Libraries"
   ]
  },
  {
   "cell_type": "code",
   "execution_count": 233,
   "metadata": {},
   "outputs": [],
   "source": [
    "import numpy as np\n",
    "import pandas as pd\n",
    "import re\n",
    "from sklearn.decomposition import PCA\n",
    "import matplotlib.pyplot as plt"
   ]
  },
  {
   "cell_type": "markdown",
   "metadata": {},
   "source": [
    "Below, an array of sample sentences is created."
   ]
  },
  {
   "cell_type": "code",
   "execution_count": 234,
   "metadata": {},
   "outputs": [],
   "source": [
    "# pre-selected sample input array\n",
    "sample_input_array = [\n",
    "    {\"1\": \"This is a test input.\"},\n",
    "    {\"2\": \"Chess, not checkers.\"},\n",
    "    {\"3\": \"Algorithms make the world go round.\"},\n",
    "    {\"4\": \"Financial Technology is my graduate program.\"},\n",
    "    {\"5\": \"UCF is in Florida.\"},\n",
    "    {\"6\": \"I am from Florida. The year is 2024 and I am a graduate student. This team is Team Number 1.\"},\n",
    "    {\"7\": \"The only thing we have to fear is fear itself.\"},\n",
    "    {\"8\": \"I think, therefore I am.\"},\n",
    "    {\"9\": \"To be, or not to be, that is the question.\"},\n",
    "    {\"10\": \"A journey of a thousand miles begins with a single step.\"},\n",
    "    {\"11\": \"I have a dream.\"},\n",
    "    {\"12\": \"Knowledge is power.\"},\n",
    "    {\"13\": \"Time is money.\"},\n",
    "    {\"14\": \"The pen is mightier than the sword.\"},\n",
    "    {\"15\": \"An eye for an eye only ends up making the whole world blind.\"},\n",
    "    {\"16\": \"In the end, we will remember not the words of our enemies, but the silence of our friends.\"}\n",
    "]"
   ]
  },
  {
   "cell_type": "markdown",
   "metadata": {},
   "source": [
    "Below, the logic of which sample input is used in the run is decided. It can be randomly selected with the np.random library. Otherwise, It can be set to a specific number to keep testing the same input."
   ]
  },
  {
   "cell_type": "code",
   "execution_count": 235,
   "metadata": {},
   "outputs": [],
   "source": [
    "array_input_number = np.random.randint(1, 17)\n",
    "text_to_tokenize = sample_input_array[array_input_number - 1][str(array_input_number)]"
   ]
  },
  {
   "cell_type": "markdown",
   "metadata": {},
   "source": [
    "Next, the text is tokenized by calling the tokenize function below and stored in the variable 'tokens'. The text is set to all lower case for consistency throughout the processing."
   ]
  },
  {
   "cell_type": "code",
   "execution_count": 236,
   "metadata": {},
   "outputs": [],
   "source": [
    "def tokenize(text_to_tokenize):\n",
    "    # Tokenizes text into words, separating out punctuation since we are working with word relational data. Punctuation is important.\n",
    "    tokens = re.findall(r'\\b\\w+\\b|\\S', text_to_tokenize.lower())\n",
    "    return tokens\n",
    "\n",
    "tokens = tokenize(text_to_tokenize)"
   ]
  },
  {
   "cell_type": "markdown",
   "metadata": {},
   "source": [
    "Below, we proceed to vectorize the tokens and store them in a variable. Vectorizing involves creating a one-dimensional array of float integers, which makes the Python code more readable for the computer. In this case, we use the Count of Words vectorizer, which provides a weighted interpretation for the model."
   ]
  },
  {
   "cell_type": "code",
   "execution_count": 237,
   "metadata": {},
   "outputs": [],
   "source": [
    "def count_vectorize(tokens):\n",
    "    word_counts = {}\n",
    "    for word in tokens:\n",
    "        if word not in word_counts:\n",
    "            word_counts[word] = 1\n",
    "        else:\n",
    "            word_counts[word] += 1\n",
    "    return word_counts\n",
    "\n",
    "vector = count_vectorize(tokens)"
   ]
  },
  {
   "cell_type": "markdown",
   "metadata": {},
   "source": [
    "The print statements below will tell us the tokenized text."
   ]
  },
  {
   "cell_type": "code",
   "execution_count": 238,
   "metadata": {},
   "outputs": [
    {
     "name": "stdout",
     "output_type": "stream",
     "text": [
      "Tokenization:            0\n",
      "0         to\n",
      "1         be\n",
      "2          ,\n",
      "3         or\n",
      "4        not\n",
      "5         to\n",
      "6         be\n",
      "7          ,\n",
      "8       that\n",
      "9         is\n",
      "10       the\n",
      "11  question\n",
      "12         .\n",
      "\n",
      "Count Vectorization: {'to': 2, 'be': 2, ',': 2, 'or': 1, 'not': 1, 'that': 1, 'is': 1, 'the': 1, 'question': 1, '.': 1}\n"
     ]
    }
   ],
   "source": [
    "tokens_df = pd.DataFrame(tokens)\n",
    "print('Tokenization:', tokens_df)\n",
    "\n",
    "\n",
    "print('\\nCount Vectorization:', vector)"
   ]
  },
  {
   "cell_type": "markdown",
   "metadata": {},
   "source": [
    "Below, the one_hot_encode function converts tokens into one-hot vector embeddings, which are then used by the self_attention function to compute the self-attention mechanism. This process is essential for capturing the relationships and dependencies within the input sequence.\n"
   ]
  },
  {
   "cell_type": "code",
   "execution_count": 239,
   "metadata": {},
   "outputs": [],
   "source": [
    "def one_hot_encoding(tokens):\n",
    "    # Create a list of unique words\n",
    "    unique_words = list(set(tokens))\n",
    "\n",
    "    # Create an empty dictionary\n",
    "    word_to_index = {}\n",
    "\n",
    "    # Loop over the unique_words list\n",
    "    for index, word in enumerate(unique_words):\n",
    "        # Add the word to the dictionary with its index as the value\n",
    "        word_to_index[word] = index\n",
    "\n",
    "    # Create a one-hot encoding for each word\n",
    "    one_hot_vectors = np.eye(len(unique_words))\n",
    "\n",
    "    # Create an empty list for the embeddings\n",
    "    embeddings = []\n",
    "\n",
    "    # Loop over the tokens list\n",
    "    for word in tokens:\n",
    "        # Get the one-hot vector for the current word\n",
    "        one_hot_vector = one_hot_vectors[word_to_index[word]]\n",
    "    \n",
    "        # Add the one-hot vector to the embeddings list\n",
    "        embeddings.append(one_hot_vector)\n",
    "\n",
    "    return embeddings"
   ]
  },
  {
   "cell_type": "markdown",
   "metadata": {},
   "source": [
    "Below, the self_attention function calculates the attention scores.\n",
    "\n",
    "Because np.random is used throughout this notebook, it is important to have different seeds so that the generated numbers are different. \n",
    "The get_state() function captures the current np.random state, which is then changed in the next line to be a seed of 659148. The seed state is restored after the weighted values are calculated.\n",
    "Non-weighted Query, Key and Value values are calculated.\n",
    "\n",
    "Next, the raw attention scores are calculated with dot matrix multiplication. The raw attention scores are scaled by the inverse square root of the dimensionality of the key vectors. This scales down the scores which helps stabilize gradients and improve efficiency during training.\n",
    "\n",
    "Next, the SoftMax method is implemented to normalize the the scaled attention scores to a value between 0 and 1, where the entire matrices row sum will total 1. This converts the attention scores into interpretable probabilities."
   ]
  },
  {
   "cell_type": "code",
   "execution_count": 240,
   "metadata": {},
   "outputs": [],
   "source": [
    "def self_attention(input_sequence, embed_dimension):\n",
    "    # Save the current state of the numpy random number generator\n",
    "    initial_state = np.random.get_state()\n",
    "\n",
    "    # Set the seed and initialize weight matrices\n",
    "    np.random.seed(659148)\n",
    "    WQ = np.random.rand(embed_dimension, embed_dimension)\n",
    "    WK = np.random.rand(embed_dimension, embed_dimension)\n",
    "    WV = np.random.rand(embed_dimension, embed_dimension)\n",
    "\n",
    "    # Restore the previous state of the numpy random number generator\n",
    "    np.random.set_state(initial_state)\n",
    "\n",
    "    # Calculate non-weighted Q, K, V\n",
    "    Q = np.dot(input_sequence, WQ)\n",
    "    K = np.dot(input_sequence, WK)\n",
    "    V = np.dot(input_sequence, WV)\n",
    "\n",
    "    # caculate raw attention scores, then scale them down in prep for noramalization\n",
    "    attention_scores = np.dot(Q, K.T) / np.sqrt(embed_dimension)\n",
    "\n",
    "    # Normalize the attention scores via SoftMax methodology\n",
    "    attention_scores = np.exp(attention_scores) / np.sum(np.exp(attention_scores), axis=-1, keepdims=True)\n",
    "\n",
    "    # Below, np.dot(attention_scores, V) multiplies the attention scores matrix and the value vectors matrix\n",
    "    output = np.dot(attention_scores, V)\n",
    "\n",
    "    return output,attention_scores"
   ]
  },
  {
   "cell_type": "markdown",
   "metadata": {},
   "source": [
    "Above, by multiplying the attention scores matrix and the Value vectors matrix, it weighs each token from the program's initial input to be compared to the other tokens involved.\n",
    "\n",
    "Below, the embeddings are saved to a variable and the embedded dimensions variable is declared and intialized.\n",
    "Next, the self-attention function is called and returns the output and attention_scores values which are stored in the respective variables.\n",
    "\n",
    "The print statement reflects the self-attention scors for the entire input text."
   ]
  },
  {
   "cell_type": "code",
   "execution_count": 245,
   "metadata": {},
   "outputs": [
    {
     "name": "stdout",
     "output_type": "stream",
     "text": [
      "Self-Attention Output:\n",
      "            0         1         2         3         4         5         6  \\\n",
      "0   0.315887  0.510472  0.418419  0.462037  0.284390  0.326720  0.453645   \n",
      "1   0.311893  0.510703  0.421087  0.465949  0.282241  0.325409  0.455040   \n",
      "2   0.315643  0.526019  0.419419  0.453924  0.271718  0.324764  0.449228   \n",
      "3   0.314805  0.528060  0.417625  0.451434  0.269715  0.326254  0.445167   \n",
      "4   0.320263  0.530525  0.430578  0.459867  0.270506  0.321325  0.459049   \n",
      "5   0.315887  0.510472  0.418419  0.462037  0.284390  0.326720  0.453645   \n",
      "6   0.311893  0.510703  0.421087  0.465949  0.282241  0.325409  0.455040   \n",
      "7   0.315643  0.526019  0.419419  0.453924  0.271718  0.324764  0.449228   \n",
      "8   0.318764  0.541057  0.433794  0.459631  0.267727  0.328124  0.459480   \n",
      "9   0.323024  0.512118  0.419820  0.463294  0.282654  0.316090  0.465570   \n",
      "10  0.318229  0.518951  0.424162  0.462650  0.280796  0.325979  0.457063   \n",
      "11  0.314117  0.514286  0.412567  0.454421  0.278011  0.325999  0.449440   \n",
      "12  0.317029  0.524794  0.421463  0.456816  0.272533  0.324043  0.456297   \n",
      "\n",
      "           7         8         9  \n",
      "0   0.438328  0.486045  0.529784  \n",
      "1   0.430329  0.480811  0.534814  \n",
      "2   0.428042  0.494593  0.544510  \n",
      "3   0.429535  0.498685  0.545022  \n",
      "4   0.442127  0.505814  0.542577  \n",
      "5   0.438328  0.486045  0.529784  \n",
      "6   0.430329  0.480811  0.534814  \n",
      "7   0.428042  0.494593  0.544510  \n",
      "8   0.435027  0.489389  0.549809  \n",
      "9   0.443043  0.500992  0.532277  \n",
      "10  0.437327  0.479933  0.533202  \n",
      "11  0.427266  0.483266  0.534342  \n",
      "12  0.429129  0.481241  0.538510  \n",
      "Self-Attention Scores:\n",
      "           0         1         2         3         4         5         6   \\\n",
      "0   0.066610  0.068814  0.079257  0.102552  0.095327  0.066610  0.068814   \n",
      "1   0.065723  0.071185  0.080011  0.099780  0.091037  0.065723  0.071185   \n",
      "2   0.071007  0.074333  0.087848  0.089796  0.085540  0.071007  0.074333   \n",
      "3   0.071595  0.074482  0.089038  0.085985  0.083502  0.071595  0.074482   \n",
      "4   0.078208  0.073650  0.077732  0.089589  0.086915  0.078208  0.073650   \n",
      "5   0.066610  0.068814  0.079257  0.102552  0.095327  0.066610  0.068814   \n",
      "6   0.065723  0.071185  0.080011  0.099780  0.091037  0.065723  0.071185   \n",
      "7   0.071007  0.074333  0.087848  0.089796  0.085540  0.071007  0.074333   \n",
      "8   0.081526  0.078198  0.085544  0.098556  0.078060  0.081526  0.078198   \n",
      "9   0.071186  0.072599  0.070969  0.089500  0.096540  0.071186  0.072599   \n",
      "10  0.068894  0.072561  0.080781  0.109967  0.092258  0.068894  0.072561   \n",
      "11  0.061213  0.072774  0.087877  0.094412  0.087923  0.061213  0.072774   \n",
      "12  0.064924  0.077507  0.086508  0.095689  0.082658  0.064924  0.077507   \n",
      "\n",
      "          7         8         9         10        11        12  \n",
      "0   0.079257  0.079044  0.068520  0.074685  0.069479  0.081030  \n",
      "1   0.080011  0.073777  0.077150  0.081362  0.064493  0.078562  \n",
      "2   0.087848  0.082800  0.064200  0.071414  0.073933  0.065940  \n",
      "3   0.089038  0.088158  0.064913  0.066799  0.076146  0.064267  \n",
      "4   0.077732  0.085829  0.065015  0.069555  0.075577  0.068339  \n",
      "5   0.079257  0.079044  0.068520  0.074685  0.069479  0.081030  \n",
      "6   0.080011  0.073777  0.077150  0.081362  0.064493  0.078562  \n",
      "7   0.087848  0.082800  0.064200  0.071414  0.073933  0.065940  \n",
      "8   0.085544  0.070680  0.068466  0.062898  0.067512  0.063293  \n",
      "9   0.070969  0.086525  0.058561  0.077919  0.072957  0.088490  \n",
      "10  0.080781  0.073106  0.064600  0.072770  0.068499  0.074326  \n",
      "11  0.087877  0.081756  0.062593  0.077190  0.077748  0.074650  \n",
      "12  0.086508  0.077358  0.062134  0.075329  0.079443  0.069512  \n"
     ]
    }
   ],
   "source": [
    "embeddings = one_hot_encoding(tokens)\n",
    "\n",
    "# Set embed_dimension to the length of the unique words list\n",
    "embed_dimension = len(set(tokens))\n",
    "\n",
    "# Call the self_attention function\n",
    "output, attention_scores = self_attention(embeddings, embed_dimension)\n",
    "output_df = pd.DataFrame(output)\n",
    "attention_scores_df = pd.DataFrame(attention_scores)\n",
    "print('Self-Attention Output:\\n', output_df)\n",
    "print('Self-Attention Scores:\\n', attention_scores_df)\n"
   ]
  },
  {
   "cell_type": "markdown",
   "metadata": {},
   "source": [
    "Below, the visualizations for the self attention score matrix heatmap is defined and called. "
   ]
  },
  {
   "cell_type": "code",
   "execution_count": 247,
   "metadata": {},
   "outputs": [
    {
     "data": {
      "image/png": "[encoded data removed]",
      "text/plain": [
       "<Figure size 1000x1000 with 2 Axes>"
      ]
     },
     "metadata": {},
     "output_type": "display_data"
    }
   ],
   "source": [
    "unique_words = list(set(tokens))\n",
    "# Visualize the attention scores\n",
    "plt.figure(figsize=(10, 10))\n",
    "plt.imshow(attention_scores, cmap='hot', interpolation='nearest')\n",
    "\n",
    "# Add a colorbar\n",
    "cbar = plt.colorbar()\n",
    "cbar.set_label('Attention Scores')\n",
    "\n",
    "# Set the tick labels to be the words\n",
    "plt.xticks(np.arange(len(unique_words)), unique_words, rotation=90)\n",
    "plt.yticks(np.arange(len(unique_words)), unique_words)\n",
    "\n",
    "# Add title and axis labels\n",
    "plt.title('Self-Attention Heatmap')\n",
    "plt.xlabel('Keys')\n",
    "plt.ylabel('Queries')\n",
    "\n",
    "plt.show()"
   ]
  },
  {
   "cell_type": "markdown",
   "metadata": {},
   "source": [
    "Next, large inputs are accounted for and PCA is applied which will reduce the dimensionality of the attention-scores. \n",
    "\n",
    "Strategies to increase CPU bound compatability:\n",
    "* The PCA will reduce the deimensionality thus reducing the computation cost of future uses with the data. \n",
    "    * The utilization of a Pandas DataFrame also takes advantage of this.\n",
    "* Combining fit and transform in one function 'fit_transform()' avoids the need to store the itermediate result of the fit operation, so it can be described as end-to-end."
   ]
  },
  {
   "cell_type": "code",
   "execution_count": 243,
   "metadata": {},
   "outputs": [
    {
     "name": "stdout",
     "output_type": "stream",
     "text": [
      "PCA Output:\n",
      "          PC1       PC2\n",
      "0  -0.015579  0.002720\n",
      "1  -0.014613 -0.003426\n",
      "2   0.011546 -0.007090\n",
      "3   0.015587 -0.008388\n",
      "4   0.018802  0.016423\n",
      "5  -0.015579  0.002720\n",
      "6  -0.014613 -0.003426\n",
      "7   0.011546 -0.007090\n",
      "8   0.024676  0.002314\n",
      "9  -0.007320  0.021677\n",
      "10 -0.008245  0.002010\n",
      "11 -0.008774 -0.011973\n",
      "12  0.002566 -0.006472\n"
     ]
    }
   ],
   "source": [
    "# Store transformed PCA output in a dataframe\n",
    "pca = PCA(n_components=2)  # reduce to 2 dimensions\n",
    "pca_output = pca.fit_transform(output)\n",
    "pcadf = pd.DataFrame(data=pca_output, columns=['PC1', 'PC2'])\n",
    "\n",
    "# Print the PCA output\n",
    "print('PCA Output:\\n', pcadf) "
   ]
  },
  {
   "cell_type": "markdown",
   "metadata": {},
   "source": [
    "Below, the PCA converted attention-scores are visualized.\n",
    "\n",
    "The FOR loop is used to attach the respective word to the relevant graph point. The enumerate function indexes the 'unique_words' list, and associates them with the 'pca_output' array."
   ]
  },
  {
   "cell_type": "code",
   "execution_count": 244,
   "metadata": {},
   "outputs": [
    {
     "data": {
      "image/png": "[encoded data removed]",
      "text/plain": [
       "<Figure size 1000x1000 with 1 Axes>"
      ]
     },
     "metadata": {},
     "output_type": "display_data"
    }
   ],
   "source": [
    "# Plot the PCA output\n",
    "plt.figure(figsize=(10, 10))\n",
    "plt.scatter(pca_output[:, 0], pca_output[:, 1])\n",
    "\n",
    "for i, word in enumerate(unique_words):\n",
    "    plt.annotate(word, (pca_output[i, 0], pca_output[i, 1]))\n",
    "\n",
    "plt.xlabel('Principal Component 1')\n",
    "plt.ylabel('Principal Component 2')\n",
    "plt.title('PCA on Self-Attention Output')\n",
    "plt.show()"
   ]
  }
 ],
 "metadata": {
  "kernelspec": {
   "display_name": "Python 3",
   "language": "python",
   "name": "python3"
  },
  "language_info": {
   "codemirror_mode": {
    "name": "ipython",
    "version": 3
   },
   "file_extension": ".py",
   "mimetype": "text/x-python",
   "name": "python",
   "nbconvert_exporter": "python",
   "pygments_lexer": "ipython3",
   "version": "3.12.0"
  }
 },
 "nbformat": 4,
 "nbformat_minor": 2
}
