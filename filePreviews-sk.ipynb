{
 "cells": [
  {
   "cell_type": "code",
   "execution_count": 161,
   "metadata": {
    "ExecuteTime": {
     "end_time": "2024-02-21T05:51:47.125130Z",
     "start_time": "2024-02-21T05:51:46.964915Z"
    }
   },
   "outputs": [
    {
     "data": {
      "text/plain": "             Car_id        Date Customer Name  Gender  Annual Income  \\\n0      C_CND_000001    1/2/2022     Geraldine    Male          13500   \n1      C_CND_000002    1/2/2022           Gia    Male        1480000   \n2      C_CND_000003    1/2/2022        Gianna    Male        1035000   \n3      C_CND_000004    1/2/2022       Giselle    Male          13500   \n4      C_CND_000005    1/2/2022         Grace    Male        1465000   \n...             ...         ...           ...     ...            ...   \n23901  C_CND_023902  12/31/2023        Martin    Male          13500   \n23902  C_CND_023903  12/31/2023         Jimmy  Female         900000   \n23903  C_CND_023904  12/31/2023          Emma    Male         705000   \n23904  C_CND_023905  12/31/2023      Victoire    Male          13500   \n23905  C_CND_023906  12/31/2023       Donovan    Male        1225000   \n\n                               Dealer Name    Company       Model                     Engine  \\\n0      Buddy Storbeck's Diesel Service Inc       Ford  Expedition  DoubleÂ Overhead Camshaft   \n1                         C & M Motors Inc      Dodge     Durango  DoubleÂ Overhead Camshaft   \n2                              Capitol KIA   Cadillac    Eldorado          Overhead Camshaft   \n3                   Chrysler of Tri-Cities     Toyota      Celica          Overhead Camshaft   \n4                        Chrysler Plymouth      Acura          TL  DoubleÂ Overhead Camshaft   \n...                                    ...        ...         ...                        ...   \n23901                     C & M Motors Inc   Plymouth     Voyager          Overhead Camshaft   \n23902       Ryder Truck Rental and Leasing  Chevrolet       Prizm  DoubleÂ Overhead Camshaft   \n23903               Chrysler of Tri-Cities        BMW        328i          Overhead Camshaft   \n23904                    Chrysler Plymouth  Chevrolet       Metro  DoubleÂ Overhead Camshaft   \n23905                      Pars Auto Sales      Lexus       ES300  DoubleÂ Overhead Camshaft   \n\n      Transmission       Color  Price   Dealer_No Body Style    Phone Dealer Region  \n0             Auto       Black  26000  06457-3834        SUV  8264678    Middletown  \n1             Auto       Black  19000  60504-7114        SUV  6848189        Aurora  \n2           Manual         Red  31500  38701-8047  Passenger  7298798    Greenville  \n3           Manual  Pale White  14000  99301-3882        SUV  6257557         Pasco  \n4             Auto         Red  24500  53546-9427  Hatchback  7081483    Janesville  \n...            ...         ...    ...         ...        ...      ...           ...  \n23901       Manual         Red  12000  60504-7114  Passenger  8583598         Pasco  \n23902         Auto       Black  16000  06457-3834    Hardtop  7914229    Middletown  \n23903       Manual         Red  21000  99301-3882      Sedan  7659127    Scottsdale  \n23904         Auto       Black  31000  53546-9427  Passenger  6030764        Austin  \n23905         Auto  Pale White  27500  38701-8047    Hardtop  7020564    Middletown  \n\n[23906 rows x 16 columns]",
      "text/html": "<div>\n<style scoped>\n    .dataframe tbody tr th:only-of-type {\n        vertical-align: middle;\n    }\n\n    .dataframe tbody tr th {\n        vertical-align: top;\n    }\n\n    .dataframe thead th {\n        text-align: right;\n    }\n</style>\n<table border=\"1\" class=\"dataframe\">\n  <thead>\n    <tr style=\"text-align: right;\">\n      <th></th>\n      <th>Car_id</th>\n      <th>Date</th>\n      <th>Customer Name</th>\n      <th>Gender</th>\n      <th>Annual Income</th>\n      <th>Dealer Name</th>\n      <th>Company</th>\n      <th>Model</th>\n      <th>Engine</th>\n      <th>Transmission</th>\n      <th>Color</th>\n      <th>Price</th>\n      <th>Dealer_No</th>\n      <th>Body Style</th>\n      <th>Phone</th>\n      <th>Dealer Region</th>\n    </tr>\n  </thead>\n  <tbody>\n    <tr>\n      <th>0</th>\n      <td>C_CND_000001</td>\n      <td>1/2/2022</td>\n      <td>Geraldine</td>\n      <td>Male</td>\n      <td>13500</td>\n      <td>Buddy Storbeck's Diesel Service Inc</td>\n      <td>Ford</td>\n      <td>Expedition</td>\n      <td>DoubleÂ Overhead Camshaft</td>\n      <td>Auto</td>\n      <td>Black</td>\n      <td>26000</td>\n      <td>06457-3834</td>\n      <td>SUV</td>\n      <td>8264678</td>\n      <td>Middletown</td>\n    </tr>\n    <tr>\n      <th>1</th>\n      <td>C_CND_000002</td>\n      <td>1/2/2022</td>\n      <td>Gia</td>\n      <td>Male</td>\n      <td>1480000</td>\n      <td>C &amp; M Motors Inc</td>\n      <td>Dodge</td>\n      <td>Durango</td>\n      <td>DoubleÂ Overhead Camshaft</td>\n      <td>Auto</td>\n      <td>Black</td>\n      <td>19000</td>\n      <td>60504-7114</td>\n      <td>SUV</td>\n      <td>6848189</td>\n      <td>Aurora</td>\n    </tr>\n    <tr>\n      <th>2</th>\n      <td>C_CND_000003</td>\n      <td>1/2/2022</td>\n      <td>Gianna</td>\n      <td>Male</td>\n      <td>1035000</td>\n      <td>Capitol KIA</td>\n      <td>Cadillac</td>\n      <td>Eldorado</td>\n      <td>Overhead Camshaft</td>\n      <td>Manual</td>\n      <td>Red</td>\n      <td>31500</td>\n      <td>38701-8047</td>\n      <td>Passenger</td>\n      <td>7298798</td>\n      <td>Greenville</td>\n    </tr>\n    <tr>\n      <th>3</th>\n      <td>C_CND_000004</td>\n      <td>1/2/2022</td>\n      <td>Giselle</td>\n      <td>Male</td>\n      <td>13500</td>\n      <td>Chrysler of Tri-Cities</td>\n      <td>Toyota</td>\n      <td>Celica</td>\n      <td>Overhead Camshaft</td>\n      <td>Manual</td>\n      <td>Pale White</td>\n      <td>14000</td>\n      <td>99301-3882</td>\n      <td>SUV</td>\n      <td>6257557</td>\n      <td>Pasco</td>\n    </tr>\n    <tr>\n      <th>4</th>\n      <td>C_CND_000005</td>\n      <td>1/2/2022</td>\n      <td>Grace</td>\n      <td>Male</td>\n      <td>1465000</td>\n      <td>Chrysler Plymouth</td>\n      <td>Acura</td>\n      <td>TL</td>\n      <td>DoubleÂ Overhead Camshaft</td>\n      <td>Auto</td>\n      <td>Red</td>\n      <td>24500</td>\n      <td>53546-9427</td>\n      <td>Hatchback</td>\n      <td>7081483</td>\n      <td>Janesville</td>\n    </tr>\n    <tr>\n      <th>...</th>\n      <td>...</td>\n      <td>...</td>\n      <td>...</td>\n      <td>...</td>\n      <td>...</td>\n      <td>...</td>\n      <td>...</td>\n      <td>...</td>\n      <td>...</td>\n      <td>...</td>\n      <td>...</td>\n      <td>...</td>\n      <td>...</td>\n      <td>...</td>\n      <td>...</td>\n      <td>...</td>\n    </tr>\n    <tr>\n      <th>23901</th>\n      <td>C_CND_023902</td>\n      <td>12/31/2023</td>\n      <td>Martin</td>\n      <td>Male</td>\n      <td>13500</td>\n      <td>C &amp; M Motors Inc</td>\n      <td>Plymouth</td>\n      <td>Voyager</td>\n      <td>Overhead Camshaft</td>\n      <td>Manual</td>\n      <td>Red</td>\n      <td>12000</td>\n      <td>60504-7114</td>\n      <td>Passenger</td>\n      <td>8583598</td>\n      <td>Pasco</td>\n    </tr>\n    <tr>\n      <th>23902</th>\n      <td>C_CND_023903</td>\n      <td>12/31/2023</td>\n      <td>Jimmy</td>\n      <td>Female</td>\n      <td>900000</td>\n      <td>Ryder Truck Rental and Leasing</td>\n      <td>Chevrolet</td>\n      <td>Prizm</td>\n      <td>DoubleÂ Overhead Camshaft</td>\n      <td>Auto</td>\n      <td>Black</td>\n      <td>16000</td>\n      <td>06457-3834</td>\n      <td>Hardtop</td>\n      <td>7914229</td>\n      <td>Middletown</td>\n    </tr>\n    <tr>\n      <th>23903</th>\n      <td>C_CND_023904</td>\n      <td>12/31/2023</td>\n      <td>Emma</td>\n      <td>Male</td>\n      <td>705000</td>\n      <td>Chrysler of Tri-Cities</td>\n      <td>BMW</td>\n      <td>328i</td>\n      <td>Overhead Camshaft</td>\n      <td>Manual</td>\n      <td>Red</td>\n      <td>21000</td>\n      <td>99301-3882</td>\n      <td>Sedan</td>\n      <td>7659127</td>\n      <td>Scottsdale</td>\n    </tr>\n    <tr>\n      <th>23904</th>\n      <td>C_CND_023905</td>\n      <td>12/31/2023</td>\n      <td>Victoire</td>\n      <td>Male</td>\n      <td>13500</td>\n      <td>Chrysler Plymouth</td>\n      <td>Chevrolet</td>\n      <td>Metro</td>\n      <td>DoubleÂ Overhead Camshaft</td>\n      <td>Auto</td>\n      <td>Black</td>\n      <td>31000</td>\n      <td>53546-9427</td>\n      <td>Passenger</td>\n      <td>6030764</td>\n      <td>Austin</td>\n    </tr>\n    <tr>\n      <th>23905</th>\n      <td>C_CND_023906</td>\n      <td>12/31/2023</td>\n      <td>Donovan</td>\n      <td>Male</td>\n      <td>1225000</td>\n      <td>Pars Auto Sales</td>\n      <td>Lexus</td>\n      <td>ES300</td>\n      <td>DoubleÂ Overhead Camshaft</td>\n      <td>Auto</td>\n      <td>Pale White</td>\n      <td>27500</td>\n      <td>38701-8047</td>\n      <td>Hardtop</td>\n      <td>7020564</td>\n      <td>Middletown</td>\n    </tr>\n  </tbody>\n</table>\n<p>23906 rows × 16 columns</p>\n</div>"
     },
     "execution_count": 161,
     "metadata": {},
     "output_type": "execute_result"
    }
   ],
   "source": [
    "import pandas as pd\n",
    "import numpy as np\n",
    "\n",
    "# Note: Dealer_No had a trailing space.  Rename column names to something more readable\n",
    "colnames = ['Car_id', 'Date', 'Customer Name', 'Gender', 'Annual Income', 'Dealer Name', 'Company', 'Model', 'Engine', 'Transmission','Color', 'Price', 'Dealer_No', 'Body Style', 'Phone', 'Dealer Region']\n",
    "\n",
    "# Load the data\n",
    "carSales = pd.read_csv(\"datasets/carSales.csv\", header=0, names=colnames)\n",
    "carSales\n",
    "#carSales[carSales.columns] = carSales.apply(lambda x: x.str.strip())"
   ]
  },
  {
   "cell_type": "code",
   "execution_count": 163,
   "metadata": {
    "ExecuteTime": {
     "end_time": "2024-02-21T05:52:05.690040Z",
     "start_time": "2024-02-21T05:52:05.680525Z"
    }
   },
   "outputs": [
    {
     "data": {
      "text/plain": "          Car_id      Date Customer Name  Gender  Annual Income  \\\n0   C_CND_000001  1/2/2022     Geraldine    Male          13500   \n1   C_CND_000002  1/2/2022           Gia    Male        1480000   \n2   C_CND_000003  1/2/2022        Gianna    Male        1035000   \n3   C_CND_000004  1/2/2022       Giselle    Male          13500   \n4   C_CND_000005  1/2/2022         Grace    Male        1465000   \n5   C_CND_000006  1/2/2022     Guadalupe    Male         850000   \n6   C_CND_000007  1/2/2022        Hailey    Male        1600000   \n7   C_CND_000008  1/2/2022        Graham    Male          13500   \n8   C_CND_000009  1/2/2022         Naomi    Male         815000   \n9   C_CND_000010  1/2/2022       Grayson  Female          13500   \n10  C_CND_000011  1/2/2022       Gregory    Male          13500   \n11  C_CND_000012  1/2/2022        Amar'E    Male          13500   \n12  C_CND_000013  1/2/2022       Griffin    Male         885000   \n13  C_CND_000014  1/2/2022      Harrison    Male          13500   \n14  C_CND_000015  1/2/2022        Zainab    Male         722000   \n15  C_CND_000016  1/2/2022          Zara    Male         746000   \n16  C_CND_000017  1/2/2022           Zoe  Female         535000   \n17  C_CND_000018  1/2/2022          Zoey  Female         570000   \n18  C_CND_000019  1/2/2022       Aaliyah    Male         685000   \n19  C_CND_000020  1/2/2022       Abigail    Male         455000   \n20  C_CND_000021  1/2/2022      Adrianna    Male          13500   \n21  C_CND_000022  1/2/2022        Joshua    Male        2500000   \n22  C_CND_000023  1/2/2022        Marcus    Male         585000   \n23  C_CND_000024  1/2/2022        Arthur    Male         920000   \n24  C_CND_000025  1/2/2022        Lizzie    Male         672000   \n25  C_CND_000026  1/2/2022       Florian    Male         801250   \n26  C_CND_000027  1/2/2022     Cassandre  Female         820000   \n27  C_CND_000028  1/2/2022      Syrielle    Male         791000   \n28  C_CND_000029  1/2/2022        Sloane    Male          13500   \n29  C_CND_000030  1/2/2022         Sofia    Male        1020000   \n\n                                        Dealer Name     Company           Model  \\\n0               Buddy Storbeck's Diesel Service Inc        Ford      Expedition   \n1                                  C & M Motors Inc       Dodge         Durango   \n2                                       Capitol KIA    Cadillac        Eldorado   \n3                            Chrysler of Tri-Cities      Toyota          Celica   \n4                                 Chrysler Plymouth       Acura              TL   \n5                                     Classic Chevy  Mitsubishi        Diamante   \n6                           Clay Johnson Auto Sales      Toyota         Corolla   \n7                                         U-Haul CO  Mitsubishi          Galant   \n8                              Rabun Used Car Sales   Chevrolet          Malibu   \n9                              Rabun Used Car Sales        Ford          Escort   \n10                                    Race Car Help       Acura              RL   \n11                                    Race Car Help      Nissan      Pathfinder   \n12                                 Saab-Belle Dodge     Mercury   Grand Marquis   \n13                Scrivener Performance Engineering         BMW            323i   \n14              Buddy Storbeck's Diesel Service Inc    Chrysler   Sebring Coupe   \n15                                 C & M Motors Inc      Subaru        Forester   \n16                                      Capitol KIA     Hyundai          Accent   \n17                           Chrysler of Tri-Cities    Cadillac        Eldorado   \n18                                Chrysler Plymouth      Toyota    Land Cruiser   \n19                                    Classic Chevy       Honda          Accord   \n20                          Clay Johnson Auto Sales      Toyota         4Runner   \n21                                    Classic Chevy    Infiniti             I30   \n22                               Diehl Motor CO Inc        Audi              A4   \n23                             Star Enterprises Inc     Porsche  Carrera Cabrio   \n24                                    Suburban Ford  Volkswagen           Jetta   \n25                               Tri-State Mack Inc       Dodge           Viper   \n26                                        U-Haul CO       Buick           Regal   \n27  Progressive Shippers Cooperative Association No    Chrysler             LHS   \n28                                    Race Car Help    Chrysler             LHS   \n29                   Ryder Truck Rental and Leasing      Saturn              LW   \n\n                       Engine Transmission       Color  Price   Dealer_No Body Style    Phone  \\\n0   DoubleÂ Overhead Camshaft         Auto       Black  26000  06457-3834        SUV  8264678   \n1   DoubleÂ Overhead Camshaft         Auto       Black  19000  60504-7114        SUV  6848189   \n2           Overhead Camshaft       Manual         Red  31500  38701-8047  Passenger  7298798   \n3           Overhead Camshaft       Manual  Pale White  14000  99301-3882        SUV  6257557   \n4   DoubleÂ Overhead Camshaft         Auto         Red  24500  53546-9427  Hatchback  7081483   \n5           Overhead Camshaft       Manual  Pale White  12000  85257-3102  Hatchback  7315216   \n6           Overhead Camshaft       Manual  Pale White  14000  78758-7841  Passenger  7727879   \n7   DoubleÂ Overhead Camshaft         Auto  Pale White  42000  78758-7841  Passenger  6206512   \n8           Overhead Camshaft       Manual  Pale White  82000  85257-3102    Hardtop  7194857   \n9   DoubleÂ Overhead Camshaft         Auto  Pale White  15000  85257-3102  Passenger  7836892   \n10          Overhead Camshaft       Manual  Pale White  31000  78758-7841        SUV  7995489   \n11  DoubleÂ Overhead Camshaft         Auto  Pale White  46000  78758-7841    Hardtop  7288103   \n12  DoubleÂ Overhead Camshaft         Auto       Black   9000  60504-7114        SUV  6842408   \n13  DoubleÂ Overhead Camshaft         Auto  Pale White  15000  38701-8047  Hatchback  7558767   \n14          Overhead Camshaft       Manual  Pale White  26000  06457-3834      Sedan  7677191   \n15          Overhead Camshaft       Manual  Pale White  17000  60504-7114  Hatchback  8431908   \n16          Overhead Camshaft       Manual       Black  18000  38701-8047  Hatchback  7814646   \n17  DoubleÂ Overhead Camshaft         Auto  Pale White  31000  99301-3882  Passenger  7456650   \n18  DoubleÂ Overhead Camshaft         Auto  Pale White  33000  53546-9427        SUV  7627010   \n19  DoubleÂ Overhead Camshaft         Auto  Pale White  21000  85257-3102      Sedan  6736704   \n20          Overhead Camshaft       Manual       Black  25000  78758-7841      Sedan  7889827   \n21  DoubleÂ Overhead Camshaft         Auto       Black  21000  85257-3102    Hardtop  6183219   \n22          Overhead Camshaft       Manual  Pale White  12000  06457-3834    Hardtop  8097778   \n23  DoubleÂ Overhead Camshaft         Auto  Pale White  18000  99301-3882  Passenger  7959858   \n24  DoubleÂ Overhead Camshaft         Auto  Pale White  22000  53546-9427  Passenger  8570849   \n25  DoubleÂ Overhead Camshaft         Auto  Pale White  31250  85257-3102        SUV  8520534   \n26  DoubleÂ Overhead Camshaft         Auto       Black  19000  78758-7841  Passenger  6362556   \n27          Overhead Camshaft       Manual  Pale White  41000  53546-9427  Hatchback  6281210   \n28          Overhead Camshaft       Manual  Pale White  41000  78758-7841  Hatchback  6292720   \n29          Overhead Camshaft       Manual  Pale White  13000  06457-3834  Hatchback  7698986   \n\n   Dealer Region  \n0     Middletown  \n1         Aurora  \n2     Greenville  \n3          Pasco  \n4     Janesville  \n5     Scottsdale  \n6         Austin  \n7         Austin  \n8          Pasco  \n9     Scottsdale  \n10        Austin  \n11         Pasco  \n12        Aurora  \n13    Greenville  \n14    Middletown  \n15        Aurora  \n16    Greenville  \n17         Pasco  \n18    Janesville  \n19    Scottsdale  \n20        Austin  \n21        Austin  \n22    Middletown  \n23         Pasco  \n24    Janesville  \n25    Scottsdale  \n26        Austin  \n27    Janesville  \n28    Janesville  \n29    Scottsdale  ",
      "text/html": "<div>\n<style scoped>\n    .dataframe tbody tr th:only-of-type {\n        vertical-align: middle;\n    }\n\n    .dataframe tbody tr th {\n        vertical-align: top;\n    }\n\n    .dataframe thead th {\n        text-align: right;\n    }\n</style>\n<table border=\"1\" class=\"dataframe\">\n  <thead>\n    <tr style=\"text-align: right;\">\n      <th></th>\n      <th>Car_id</th>\n      <th>Date</th>\n      <th>Customer Name</th>\n      <th>Gender</th>\n      <th>Annual Income</th>\n      <th>Dealer Name</th>\n      <th>Company</th>\n      <th>Model</th>\n      <th>Engine</th>\n      <th>Transmission</th>\n      <th>Color</th>\n      <th>Price</th>\n      <th>Dealer_No</th>\n      <th>Body Style</th>\n      <th>Phone</th>\n      <th>Dealer Region</th>\n    </tr>\n  </thead>\n  <tbody>\n    <tr>\n      <th>0</th>\n      <td>C_CND_000001</td>\n      <td>1/2/2022</td>\n      <td>Geraldine</td>\n      <td>Male</td>\n      <td>13500</td>\n      <td>Buddy Storbeck's Diesel Service Inc</td>\n      <td>Ford</td>\n      <td>Expedition</td>\n      <td>DoubleÂ Overhead Camshaft</td>\n      <td>Auto</td>\n      <td>Black</td>\n      <td>26000</td>\n      <td>06457-3834</td>\n      <td>SUV</td>\n      <td>8264678</td>\n      <td>Middletown</td>\n    </tr>\n    <tr>\n      <th>1</th>\n      <td>C_CND_000002</td>\n      <td>1/2/2022</td>\n      <td>Gia</td>\n      <td>Male</td>\n      <td>1480000</td>\n      <td>C &amp; M Motors Inc</td>\n      <td>Dodge</td>\n      <td>Durango</td>\n      <td>DoubleÂ Overhead Camshaft</td>\n      <td>Auto</td>\n      <td>Black</td>\n      <td>19000</td>\n      <td>60504-7114</td>\n      <td>SUV</td>\n      <td>6848189</td>\n      <td>Aurora</td>\n    </tr>\n    <tr>\n      <th>2</th>\n      <td>C_CND_000003</td>\n      <td>1/2/2022</td>\n      <td>Gianna</td>\n      <td>Male</td>\n      <td>1035000</td>\n      <td>Capitol KIA</td>\n      <td>Cadillac</td>\n      <td>Eldorado</td>\n      <td>Overhead Camshaft</td>\n      <td>Manual</td>\n      <td>Red</td>\n      <td>31500</td>\n      <td>38701-8047</td>\n      <td>Passenger</td>\n      <td>7298798</td>\n      <td>Greenville</td>\n    </tr>\n    <tr>\n      <th>3</th>\n      <td>C_CND_000004</td>\n      <td>1/2/2022</td>\n      <td>Giselle</td>\n      <td>Male</td>\n      <td>13500</td>\n      <td>Chrysler of Tri-Cities</td>\n      <td>Toyota</td>\n      <td>Celica</td>\n      <td>Overhead Camshaft</td>\n      <td>Manual</td>\n      <td>Pale White</td>\n      <td>14000</td>\n      <td>99301-3882</td>\n      <td>SUV</td>\n      <td>6257557</td>\n      <td>Pasco</td>\n    </tr>\n    <tr>\n      <th>4</th>\n      <td>C_CND_000005</td>\n      <td>1/2/2022</td>\n      <td>Grace</td>\n      <td>Male</td>\n      <td>1465000</td>\n      <td>Chrysler Plymouth</td>\n      <td>Acura</td>\n      <td>TL</td>\n      <td>DoubleÂ Overhead Camshaft</td>\n      <td>Auto</td>\n      <td>Red</td>\n      <td>24500</td>\n      <td>53546-9427</td>\n      <td>Hatchback</td>\n      <td>7081483</td>\n      <td>Janesville</td>\n    </tr>\n    <tr>\n      <th>5</th>\n      <td>C_CND_000006</td>\n      <td>1/2/2022</td>\n      <td>Guadalupe</td>\n      <td>Male</td>\n      <td>850000</td>\n      <td>Classic Chevy</td>\n      <td>Mitsubishi</td>\n      <td>Diamante</td>\n      <td>Overhead Camshaft</td>\n      <td>Manual</td>\n      <td>Pale White</td>\n      <td>12000</td>\n      <td>85257-3102</td>\n      <td>Hatchback</td>\n      <td>7315216</td>\n      <td>Scottsdale</td>\n    </tr>\n    <tr>\n      <th>6</th>\n      <td>C_CND_000007</td>\n      <td>1/2/2022</td>\n      <td>Hailey</td>\n      <td>Male</td>\n      <td>1600000</td>\n      <td>Clay Johnson Auto Sales</td>\n      <td>Toyota</td>\n      <td>Corolla</td>\n      <td>Overhead Camshaft</td>\n      <td>Manual</td>\n      <td>Pale White</td>\n      <td>14000</td>\n      <td>78758-7841</td>\n      <td>Passenger</td>\n      <td>7727879</td>\n      <td>Austin</td>\n    </tr>\n    <tr>\n      <th>7</th>\n      <td>C_CND_000008</td>\n      <td>1/2/2022</td>\n      <td>Graham</td>\n      <td>Male</td>\n      <td>13500</td>\n      <td>U-Haul CO</td>\n      <td>Mitsubishi</td>\n      <td>Galant</td>\n      <td>DoubleÂ Overhead Camshaft</td>\n      <td>Auto</td>\n      <td>Pale White</td>\n      <td>42000</td>\n      <td>78758-7841</td>\n      <td>Passenger</td>\n      <td>6206512</td>\n      <td>Austin</td>\n    </tr>\n    <tr>\n      <th>8</th>\n      <td>C_CND_000009</td>\n      <td>1/2/2022</td>\n      <td>Naomi</td>\n      <td>Male</td>\n      <td>815000</td>\n      <td>Rabun Used Car Sales</td>\n      <td>Chevrolet</td>\n      <td>Malibu</td>\n      <td>Overhead Camshaft</td>\n      <td>Manual</td>\n      <td>Pale White</td>\n      <td>82000</td>\n      <td>85257-3102</td>\n      <td>Hardtop</td>\n      <td>7194857</td>\n      <td>Pasco</td>\n    </tr>\n    <tr>\n      <th>9</th>\n      <td>C_CND_000010</td>\n      <td>1/2/2022</td>\n      <td>Grayson</td>\n      <td>Female</td>\n      <td>13500</td>\n      <td>Rabun Used Car Sales</td>\n      <td>Ford</td>\n      <td>Escort</td>\n      <td>DoubleÂ Overhead Camshaft</td>\n      <td>Auto</td>\n      <td>Pale White</td>\n      <td>15000</td>\n      <td>85257-3102</td>\n      <td>Passenger</td>\n      <td>7836892</td>\n      <td>Scottsdale</td>\n    </tr>\n    <tr>\n      <th>10</th>\n      <td>C_CND_000011</td>\n      <td>1/2/2022</td>\n      <td>Gregory</td>\n      <td>Male</td>\n      <td>13500</td>\n      <td>Race Car Help</td>\n      <td>Acura</td>\n      <td>RL</td>\n      <td>Overhead Camshaft</td>\n      <td>Manual</td>\n      <td>Pale White</td>\n      <td>31000</td>\n      <td>78758-7841</td>\n      <td>SUV</td>\n      <td>7995489</td>\n      <td>Austin</td>\n    </tr>\n    <tr>\n      <th>11</th>\n      <td>C_CND_000012</td>\n      <td>1/2/2022</td>\n      <td>Amar'E</td>\n      <td>Male</td>\n      <td>13500</td>\n      <td>Race Car Help</td>\n      <td>Nissan</td>\n      <td>Pathfinder</td>\n      <td>DoubleÂ Overhead Camshaft</td>\n      <td>Auto</td>\n      <td>Pale White</td>\n      <td>46000</td>\n      <td>78758-7841</td>\n      <td>Hardtop</td>\n      <td>7288103</td>\n      <td>Pasco</td>\n    </tr>\n    <tr>\n      <th>12</th>\n      <td>C_CND_000013</td>\n      <td>1/2/2022</td>\n      <td>Griffin</td>\n      <td>Male</td>\n      <td>885000</td>\n      <td>Saab-Belle Dodge</td>\n      <td>Mercury</td>\n      <td>Grand Marquis</td>\n      <td>DoubleÂ Overhead Camshaft</td>\n      <td>Auto</td>\n      <td>Black</td>\n      <td>9000</td>\n      <td>60504-7114</td>\n      <td>SUV</td>\n      <td>6842408</td>\n      <td>Aurora</td>\n    </tr>\n    <tr>\n      <th>13</th>\n      <td>C_CND_000014</td>\n      <td>1/2/2022</td>\n      <td>Harrison</td>\n      <td>Male</td>\n      <td>13500</td>\n      <td>Scrivener Performance Engineering</td>\n      <td>BMW</td>\n      <td>323i</td>\n      <td>DoubleÂ Overhead Camshaft</td>\n      <td>Auto</td>\n      <td>Pale White</td>\n      <td>15000</td>\n      <td>38701-8047</td>\n      <td>Hatchback</td>\n      <td>7558767</td>\n      <td>Greenville</td>\n    </tr>\n    <tr>\n      <th>14</th>\n      <td>C_CND_000015</td>\n      <td>1/2/2022</td>\n      <td>Zainab</td>\n      <td>Male</td>\n      <td>722000</td>\n      <td>Buddy Storbeck's Diesel Service Inc</td>\n      <td>Chrysler</td>\n      <td>Sebring Coupe</td>\n      <td>Overhead Camshaft</td>\n      <td>Manual</td>\n      <td>Pale White</td>\n      <td>26000</td>\n      <td>06457-3834</td>\n      <td>Sedan</td>\n      <td>7677191</td>\n      <td>Middletown</td>\n    </tr>\n    <tr>\n      <th>15</th>\n      <td>C_CND_000016</td>\n      <td>1/2/2022</td>\n      <td>Zara</td>\n      <td>Male</td>\n      <td>746000</td>\n      <td>C &amp; M Motors Inc</td>\n      <td>Subaru</td>\n      <td>Forester</td>\n      <td>Overhead Camshaft</td>\n      <td>Manual</td>\n      <td>Pale White</td>\n      <td>17000</td>\n      <td>60504-7114</td>\n      <td>Hatchback</td>\n      <td>8431908</td>\n      <td>Aurora</td>\n    </tr>\n    <tr>\n      <th>16</th>\n      <td>C_CND_000017</td>\n      <td>1/2/2022</td>\n      <td>Zoe</td>\n      <td>Female</td>\n      <td>535000</td>\n      <td>Capitol KIA</td>\n      <td>Hyundai</td>\n      <td>Accent</td>\n      <td>Overhead Camshaft</td>\n      <td>Manual</td>\n      <td>Black</td>\n      <td>18000</td>\n      <td>38701-8047</td>\n      <td>Hatchback</td>\n      <td>7814646</td>\n      <td>Greenville</td>\n    </tr>\n    <tr>\n      <th>17</th>\n      <td>C_CND_000018</td>\n      <td>1/2/2022</td>\n      <td>Zoey</td>\n      <td>Female</td>\n      <td>570000</td>\n      <td>Chrysler of Tri-Cities</td>\n      <td>Cadillac</td>\n      <td>Eldorado</td>\n      <td>DoubleÂ Overhead Camshaft</td>\n      <td>Auto</td>\n      <td>Pale White</td>\n      <td>31000</td>\n      <td>99301-3882</td>\n      <td>Passenger</td>\n      <td>7456650</td>\n      <td>Pasco</td>\n    </tr>\n    <tr>\n      <th>18</th>\n      <td>C_CND_000019</td>\n      <td>1/2/2022</td>\n      <td>Aaliyah</td>\n      <td>Male</td>\n      <td>685000</td>\n      <td>Chrysler Plymouth</td>\n      <td>Toyota</td>\n      <td>Land Cruiser</td>\n      <td>DoubleÂ Overhead Camshaft</td>\n      <td>Auto</td>\n      <td>Pale White</td>\n      <td>33000</td>\n      <td>53546-9427</td>\n      <td>SUV</td>\n      <td>7627010</td>\n      <td>Janesville</td>\n    </tr>\n    <tr>\n      <th>19</th>\n      <td>C_CND_000020</td>\n      <td>1/2/2022</td>\n      <td>Abigail</td>\n      <td>Male</td>\n      <td>455000</td>\n      <td>Classic Chevy</td>\n      <td>Honda</td>\n      <td>Accord</td>\n      <td>DoubleÂ Overhead Camshaft</td>\n      <td>Auto</td>\n      <td>Pale White</td>\n      <td>21000</td>\n      <td>85257-3102</td>\n      <td>Sedan</td>\n      <td>6736704</td>\n      <td>Scottsdale</td>\n    </tr>\n    <tr>\n      <th>20</th>\n      <td>C_CND_000021</td>\n      <td>1/2/2022</td>\n      <td>Adrianna</td>\n      <td>Male</td>\n      <td>13500</td>\n      <td>Clay Johnson Auto Sales</td>\n      <td>Toyota</td>\n      <td>4Runner</td>\n      <td>Overhead Camshaft</td>\n      <td>Manual</td>\n      <td>Black</td>\n      <td>25000</td>\n      <td>78758-7841</td>\n      <td>Sedan</td>\n      <td>7889827</td>\n      <td>Austin</td>\n    </tr>\n    <tr>\n      <th>21</th>\n      <td>C_CND_000022</td>\n      <td>1/2/2022</td>\n      <td>Joshua</td>\n      <td>Male</td>\n      <td>2500000</td>\n      <td>Classic Chevy</td>\n      <td>Infiniti</td>\n      <td>I30</td>\n      <td>DoubleÂ Overhead Camshaft</td>\n      <td>Auto</td>\n      <td>Black</td>\n      <td>21000</td>\n      <td>85257-3102</td>\n      <td>Hardtop</td>\n      <td>6183219</td>\n      <td>Austin</td>\n    </tr>\n    <tr>\n      <th>22</th>\n      <td>C_CND_000023</td>\n      <td>1/2/2022</td>\n      <td>Marcus</td>\n      <td>Male</td>\n      <td>585000</td>\n      <td>Diehl Motor CO Inc</td>\n      <td>Audi</td>\n      <td>A4</td>\n      <td>Overhead Camshaft</td>\n      <td>Manual</td>\n      <td>Pale White</td>\n      <td>12000</td>\n      <td>06457-3834</td>\n      <td>Hardtop</td>\n      <td>8097778</td>\n      <td>Middletown</td>\n    </tr>\n    <tr>\n      <th>23</th>\n      <td>C_CND_000024</td>\n      <td>1/2/2022</td>\n      <td>Arthur</td>\n      <td>Male</td>\n      <td>920000</td>\n      <td>Star Enterprises Inc</td>\n      <td>Porsche</td>\n      <td>Carrera Cabrio</td>\n      <td>DoubleÂ Overhead Camshaft</td>\n      <td>Auto</td>\n      <td>Pale White</td>\n      <td>18000</td>\n      <td>99301-3882</td>\n      <td>Passenger</td>\n      <td>7959858</td>\n      <td>Pasco</td>\n    </tr>\n    <tr>\n      <th>24</th>\n      <td>C_CND_000025</td>\n      <td>1/2/2022</td>\n      <td>Lizzie</td>\n      <td>Male</td>\n      <td>672000</td>\n      <td>Suburban Ford</td>\n      <td>Volkswagen</td>\n      <td>Jetta</td>\n      <td>DoubleÂ Overhead Camshaft</td>\n      <td>Auto</td>\n      <td>Pale White</td>\n      <td>22000</td>\n      <td>53546-9427</td>\n      <td>Passenger</td>\n      <td>8570849</td>\n      <td>Janesville</td>\n    </tr>\n    <tr>\n      <th>25</th>\n      <td>C_CND_000026</td>\n      <td>1/2/2022</td>\n      <td>Florian</td>\n      <td>Male</td>\n      <td>801250</td>\n      <td>Tri-State Mack Inc</td>\n      <td>Dodge</td>\n      <td>Viper</td>\n      <td>DoubleÂ Overhead Camshaft</td>\n      <td>Auto</td>\n      <td>Pale White</td>\n      <td>31250</td>\n      <td>85257-3102</td>\n      <td>SUV</td>\n      <td>8520534</td>\n      <td>Scottsdale</td>\n    </tr>\n    <tr>\n      <th>26</th>\n      <td>C_CND_000027</td>\n      <td>1/2/2022</td>\n      <td>Cassandre</td>\n      <td>Female</td>\n      <td>820000</td>\n      <td>U-Haul CO</td>\n      <td>Buick</td>\n      <td>Regal</td>\n      <td>DoubleÂ Overhead Camshaft</td>\n      <td>Auto</td>\n      <td>Black</td>\n      <td>19000</td>\n      <td>78758-7841</td>\n      <td>Passenger</td>\n      <td>6362556</td>\n      <td>Austin</td>\n    </tr>\n    <tr>\n      <th>27</th>\n      <td>C_CND_000028</td>\n      <td>1/2/2022</td>\n      <td>Syrielle</td>\n      <td>Male</td>\n      <td>791000</td>\n      <td>Progressive Shippers Cooperative Association No</td>\n      <td>Chrysler</td>\n      <td>LHS</td>\n      <td>Overhead Camshaft</td>\n      <td>Manual</td>\n      <td>Pale White</td>\n      <td>41000</td>\n      <td>53546-9427</td>\n      <td>Hatchback</td>\n      <td>6281210</td>\n      <td>Janesville</td>\n    </tr>\n    <tr>\n      <th>28</th>\n      <td>C_CND_000029</td>\n      <td>1/2/2022</td>\n      <td>Sloane</td>\n      <td>Male</td>\n      <td>13500</td>\n      <td>Race Car Help</td>\n      <td>Chrysler</td>\n      <td>LHS</td>\n      <td>Overhead Camshaft</td>\n      <td>Manual</td>\n      <td>Pale White</td>\n      <td>41000</td>\n      <td>78758-7841</td>\n      <td>Hatchback</td>\n      <td>6292720</td>\n      <td>Janesville</td>\n    </tr>\n    <tr>\n      <th>29</th>\n      <td>C_CND_000030</td>\n      <td>1/2/2022</td>\n      <td>Sofia</td>\n      <td>Male</td>\n      <td>1020000</td>\n      <td>Ryder Truck Rental and Leasing</td>\n      <td>Saturn</td>\n      <td>LW</td>\n      <td>Overhead Camshaft</td>\n      <td>Manual</td>\n      <td>Pale White</td>\n      <td>13000</td>\n      <td>06457-3834</td>\n      <td>Hatchback</td>\n      <td>7698986</td>\n      <td>Scottsdale</td>\n    </tr>\n  </tbody>\n</table>\n</div>"
     },
     "execution_count": 163,
     "metadata": {},
     "output_type": "execute_result"
    }
   ],
   "source": [
    "carSales.shape\n",
    "\n",
    "carSales.head(30)"
   ]
  },
  {
   "cell_type": "code",
   "execution_count": 164,
   "outputs": [
    {
     "data": {
      "text/plain": "Car_id           object\nDate             object\nCustomer Name    object\nGender           object\nAnnual Income     int64\nDealer Name      object\nCompany          object\nModel            object\nEngine           object\nTransmission     object\nColor            object\nPrice             int64\nDealer_No        object\nBody Style       object\nPhone             int64\nDealer Region    object\ndtype: object"
     },
     "execution_count": 164,
     "metadata": {},
     "output_type": "execute_result"
    }
   ],
   "source": [
    "carSales.dtypes"
   ],
   "metadata": {
    "collapsed": false,
    "ExecuteTime": {
     "end_time": "2024-02-21T05:52:06.995252Z",
     "start_time": "2024-02-21T05:52:06.987722Z"
    }
   }
  },
  {
   "cell_type": "code",
   "execution_count": 165,
   "outputs": [
    {
     "data": {
      "text/plain": "       Date Customer Name Gender  Annual Income                          Dealer Name   Company  \\\n0  1/2/2022     Geraldine   Male          13500  Buddy Storbeck's Diesel Service Inc      Ford   \n1  1/2/2022           Gia   Male        1480000                     C & M Motors Inc     Dodge   \n2  1/2/2022        Gianna   Male        1035000                          Capitol KIA  Cadillac   \n3  1/2/2022       Giselle   Male          13500               Chrysler of Tri-Cities    Toyota   \n4  1/2/2022         Grace   Male        1465000                    Chrysler Plymouth     Acura   \n\n        Model                     Engine Transmission       Color  Price Body Style Dealer Region  \n0  Expedition  DoubleÂ Overhead Camshaft         Auto       Black  26000        SUV    Middletown  \n1     Durango  DoubleÂ Overhead Camshaft         Auto       Black  19000        SUV        Aurora  \n2    Eldorado          Overhead Camshaft       Manual         Red  31500  Passenger    Greenville  \n3      Celica          Overhead Camshaft       Manual  Pale White  14000        SUV         Pasco  \n4          TL  DoubleÂ Overhead Camshaft         Auto         Red  24500  Hatchback    Janesville  ",
      "text/html": "<div>\n<style scoped>\n    .dataframe tbody tr th:only-of-type {\n        vertical-align: middle;\n    }\n\n    .dataframe tbody tr th {\n        vertical-align: top;\n    }\n\n    .dataframe thead th {\n        text-align: right;\n    }\n</style>\n<table border=\"1\" class=\"dataframe\">\n  <thead>\n    <tr style=\"text-align: right;\">\n      <th></th>\n      <th>Date</th>\n      <th>Customer Name</th>\n      <th>Gender</th>\n      <th>Annual Income</th>\n      <th>Dealer Name</th>\n      <th>Company</th>\n      <th>Model</th>\n      <th>Engine</th>\n      <th>Transmission</th>\n      <th>Color</th>\n      <th>Price</th>\n      <th>Body Style</th>\n      <th>Dealer Region</th>\n    </tr>\n  </thead>\n  <tbody>\n    <tr>\n      <th>0</th>\n      <td>1/2/2022</td>\n      <td>Geraldine</td>\n      <td>Male</td>\n      <td>13500</td>\n      <td>Buddy Storbeck's Diesel Service Inc</td>\n      <td>Ford</td>\n      <td>Expedition</td>\n      <td>DoubleÂ Overhead Camshaft</td>\n      <td>Auto</td>\n      <td>Black</td>\n      <td>26000</td>\n      <td>SUV</td>\n      <td>Middletown</td>\n    </tr>\n    <tr>\n      <th>1</th>\n      <td>1/2/2022</td>\n      <td>Gia</td>\n      <td>Male</td>\n      <td>1480000</td>\n      <td>C &amp; M Motors Inc</td>\n      <td>Dodge</td>\n      <td>Durango</td>\n      <td>DoubleÂ Overhead Camshaft</td>\n      <td>Auto</td>\n      <td>Black</td>\n      <td>19000</td>\n      <td>SUV</td>\n      <td>Aurora</td>\n    </tr>\n    <tr>\n      <th>2</th>\n      <td>1/2/2022</td>\n      <td>Gianna</td>\n      <td>Male</td>\n      <td>1035000</td>\n      <td>Capitol KIA</td>\n      <td>Cadillac</td>\n      <td>Eldorado</td>\n      <td>Overhead Camshaft</td>\n      <td>Manual</td>\n      <td>Red</td>\n      <td>31500</td>\n      <td>Passenger</td>\n      <td>Greenville</td>\n    </tr>\n    <tr>\n      <th>3</th>\n      <td>1/2/2022</td>\n      <td>Giselle</td>\n      <td>Male</td>\n      <td>13500</td>\n      <td>Chrysler of Tri-Cities</td>\n      <td>Toyota</td>\n      <td>Celica</td>\n      <td>Overhead Camshaft</td>\n      <td>Manual</td>\n      <td>Pale White</td>\n      <td>14000</td>\n      <td>SUV</td>\n      <td>Pasco</td>\n    </tr>\n    <tr>\n      <th>4</th>\n      <td>1/2/2022</td>\n      <td>Grace</td>\n      <td>Male</td>\n      <td>1465000</td>\n      <td>Chrysler Plymouth</td>\n      <td>Acura</td>\n      <td>TL</td>\n      <td>DoubleÂ Overhead Camshaft</td>\n      <td>Auto</td>\n      <td>Red</td>\n      <td>24500</td>\n      <td>Hatchback</td>\n      <td>Janesville</td>\n    </tr>\n  </tbody>\n</table>\n</div>"
     },
     "execution_count": 165,
     "metadata": {},
     "output_type": "execute_result"
    }
   ],
   "source": [
    "# Remove columns that don't make sense\n",
    "carSales.drop('Phone', axis=1, inplace=True)\n",
    "carSales.drop('Car_id', axis=1, inplace=True)\n",
    "carSales.drop('Dealer_No', axis=1, inplace=True)\n",
    "\n",
    "carSales.head()"
   ],
   "metadata": {
    "collapsed": false,
    "ExecuteTime": {
     "end_time": "2024-02-21T05:52:09.122680Z",
     "start_time": "2024-02-21T05:52:09.096926Z"
    }
   }
  },
  {
   "cell_type": "code",
   "execution_count": 166,
   "outputs": [
    {
     "name": "stdout",
     "output_type": "stream",
     "text": [
      "Gender\n",
      "Female     5108\n",
      "Male      18798\n",
      "dtype: int64\n"
     ]
    }
   ],
   "source": [
    "# Classification - number of Males vs Females\n",
    "# There are more Males to Females causing a highly imbalanced\n",
    "genderCount = carSales.groupby('Gender').size()\n",
    "print(genderCount)"
   ],
   "metadata": {
    "collapsed": false,
    "ExecuteTime": {
     "end_time": "2024-02-21T05:52:31.375594Z",
     "start_time": "2024-02-21T05:52:31.350486Z"
    }
   }
  },
  {
   "cell_type": "code",
   "execution_count": 167,
   "outputs": [
    {
     "name": "stdout",
     "output_type": "stream",
     "text": [
      "             Date Customer Name  Annual Income                          Dealer Name    Company  \\\n",
      "0        1/2/2022     Geraldine          13500  Buddy Storbeck's Diesel Service Inc       Ford   \n",
      "1        1/2/2022           Gia        1480000                     C & M Motors Inc      Dodge   \n",
      "2        1/2/2022        Gianna        1035000                          Capitol KIA   Cadillac   \n",
      "3        1/2/2022       Giselle          13500               Chrysler of Tri-Cities     Toyota   \n",
      "4        1/2/2022         Grace        1465000                    Chrysler Plymouth      Acura   \n",
      "...           ...           ...            ...                                  ...        ...   \n",
      "23901  12/31/2023        Martin          13500                     C & M Motors Inc   Plymouth   \n",
      "23902  12/31/2023         Jimmy         900000       Ryder Truck Rental and Leasing  Chevrolet   \n",
      "23903  12/31/2023          Emma         705000               Chrysler of Tri-Cities        BMW   \n",
      "23904  12/31/2023      Victoire          13500                    Chrysler Plymouth  Chevrolet   \n",
      "23905  12/31/2023       Donovan        1225000                      Pars Auto Sales      Lexus   \n",
      "\n",
      "            Model                     Engine       Color  Price Body Style Dealer Region  \\\n",
      "0      Expedition  DoubleÂ Overhead Camshaft       Black  26000        SUV    Middletown   \n",
      "1         Durango  DoubleÂ Overhead Camshaft       Black  19000        SUV        Aurora   \n",
      "2        Eldorado          Overhead Camshaft         Red  31500  Passenger    Greenville   \n",
      "3          Celica          Overhead Camshaft  Pale White  14000        SUV         Pasco   \n",
      "4              TL  DoubleÂ Overhead Camshaft         Red  24500  Hatchback    Janesville   \n",
      "...           ...                        ...         ...    ...        ...           ...   \n",
      "23901     Voyager          Overhead Camshaft         Red  12000  Passenger         Pasco   \n",
      "23902       Prizm  DoubleÂ Overhead Camshaft       Black  16000    Hardtop    Middletown   \n",
      "23903        328i          Overhead Camshaft         Red  21000      Sedan    Scottsdale   \n",
      "23904       Metro  DoubleÂ Overhead Camshaft       Black  31000  Passenger        Austin   \n",
      "23905       ES300  DoubleÂ Overhead Camshaft  Pale White  27500    Hardtop    Middletown   \n",
      "\n",
      "       Gender_Female  Gender_Male  Transmission_Auto  Transmission_Manual  \n",
      "0                  0            1                  1                    0  \n",
      "1                  0            1                  1                    0  \n",
      "2                  0            1                  0                    1  \n",
      "3                  0            1                  0                    1  \n",
      "4                  0            1                  1                    0  \n",
      "...              ...          ...                ...                  ...  \n",
      "23901              0            1                  0                    1  \n",
      "23902              1            0                  1                    0  \n",
      "23903              0            1                  0                    1  \n",
      "23904              0            1                  1                    0  \n",
      "23905              0            1                  1                    0  \n",
      "\n",
      "[23906 rows x 15 columns]\n"
     ]
    }
   ],
   "source": [
    "# Correlation refers to the relationship between two variables and how they may or may not change together\n",
    "# A correlation of -1 shows full negative correlation\n",
    "# A correlation of 1 shows positive correlation\n",
    "\n",
    "carSalesCorrelations = pd.get_dummies(carSales, columns = ['Gender', 'Transmission'])\n",
    "print(carSalesCorrelations)\n"
   ],
   "metadata": {
    "collapsed": false,
    "ExecuteTime": {
     "end_time": "2024-02-21T05:52:33.990119Z",
     "start_time": "2024-02-21T05:52:33.964746Z"
    }
   }
  },
  {
   "cell_type": "code",
   "execution_count": 168,
   "outputs": [
    {
     "name": "stdout",
     "output_type": "stream",
     "text": [
      "                     Annual Income     Price  Gender_Female  Gender_Male  Transmission_Auto  \\\n",
      "Annual Income             1.000000  0.012065      -0.054204     0.054204           0.006598   \n",
      "Price                     0.012065  1.000000       0.006592    -0.006592           0.011271   \n",
      "Gender_Female            -0.054204  0.006592       1.000000    -1.000000           0.002647   \n",
      "Gender_Male               0.054204 -0.006592      -1.000000     1.000000          -0.002647   \n",
      "Transmission_Auto         0.006598  0.011271       0.002647    -0.002647           1.000000   \n",
      "Transmission_Manual      -0.006598 -0.011271      -0.002647     0.002647          -1.000000   \n",
      "\n",
      "                     Transmission_Manual  \n",
      "Annual Income                  -0.006598  \n",
      "Price                          -0.011271  \n",
      "Gender_Female                  -0.002647  \n",
      "Gender_Male                     0.002647  \n",
      "Transmission_Auto              -1.000000  \n",
      "Transmission_Manual             1.000000  \n"
     ]
    }
   ],
   "source": [
    "carCorr = carSalesCorrelations.corr(method='pearson')\n",
    "print(carCorr)"
   ],
   "metadata": {
    "collapsed": false,
    "ExecuteTime": {
     "end_time": "2024-02-21T05:53:37.684093Z",
     "start_time": "2024-02-21T05:53:37.669866Z"
    }
   }
  },
  {
   "cell_type": "code",
   "execution_count": null,
   "outputs": [],
   "source": [],
   "metadata": {
    "collapsed": false
   }
  }
 ],
 "metadata": {
  "kernelspec": {
   "display_name": "Python 3",
   "language": "python",
   "name": "python3"
  },
  "language_info": {
   "codemirror_mode": {
    "name": "ipython",
    "version": 3
   },
   "file_extension": ".py",
   "mimetype": "text/x-python",
   "name": "python",
   "nbconvert_exporter": "python",
   "pygments_lexer": "ipython3",
   "version": "3.12.0"
  }
 },
 "nbformat": 4,
 "nbformat_minor": 2
}
